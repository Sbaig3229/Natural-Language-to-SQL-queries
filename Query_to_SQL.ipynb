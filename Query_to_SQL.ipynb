{
  "nbformat": 4,
  "nbformat_minor": 0,
  "metadata": {
    "colab": {
      "provenance": [],
      "collapsed_sections": []
    },
    "kernelspec": {
      "name": "python3",
      "display_name": "Python 3"
    },
    "language_info": {
      "name": "python"
    }
  },
  "cells": [
    {
      "cell_type": "code",
      "metadata": {
        "colab": {
          "base_uri": "https://localhost:8080/"
        },
        "id": "zkkCDGNQg238",
        "outputId": "1035c969-46af-40ee-e60a-5940357573ec"
      },
      "source": [
        "!pip install nltk\n",
        "import nltk"
      ],
      "execution_count": null,
      "outputs": [
        {
          "output_type": "stream",
          "name": "stdout",
          "text": [
            "Requirement already satisfied: nltk in /usr/local/lib/python3.7/dist-packages (3.2.5)\n",
            "Requirement already satisfied: six in /usr/local/lib/python3.7/dist-packages (from nltk) (1.15.0)\n"
          ]
        }
      ]
    },
    {
      "cell_type": "code",
      "metadata": {
        "colab": {
          "base_uri": "https://localhost:8080/"
        },
        "id": "TFiFnjTEhb6n",
        "outputId": "47803e91-b2d6-42da-dc21-2c97c121b297"
      },
      "source": [
        "nltk.download('punkt')\n",
        "nltk.download('stopwords')"
      ],
      "execution_count": null,
      "outputs": [
        {
          "output_type": "stream",
          "name": "stdout",
          "text": [
            "[nltk_data] Downloading package punkt to /root/nltk_data...\n",
            "[nltk_data]   Package punkt is already up-to-date!\n",
            "[nltk_data] Downloading package stopwords to /root/nltk_data...\n",
            "[nltk_data]   Package stopwords is already up-to-date!\n"
          ]
        },
        {
          "output_type": "execute_result",
          "data": {
            "text/plain": [
              "True"
            ]
          },
          "metadata": {},
          "execution_count": 59
        }
      ]
    },
    {
      "cell_type": "code",
      "metadata": {
        "id": "UXqLcqmPi1_Y"
      },
      "source": [
        "from nltk.corpus import stopwords\n",
        "import pandas as pd"
      ],
      "execution_count": null,
      "outputs": []
    },
    {
      "cell_type": "code",
      "metadata": {
        "id": "QyQMgx677B5R"
      },
      "source": [
        "columns_names='userid','order','order_id'"
      ],
      "execution_count": null,
      "outputs": []
    },
    {
      "cell_type": "code",
      "metadata": {
        "colab": {
          "base_uri": "https://localhost:8080/"
        },
        "id": "6Atv_UTvhqL-",
        "outputId": "57415905-021d-4923-85c6-a822e34b78f1"
      },
      "source": [
        "user_query = input ('Enter query-')\n",
        "print (user_query)"
      ],
      "execution_count": null,
      "outputs": [
        {
          "output_type": "stream",
          "name": "stdout",
          "text": [
            "Enter query-userid is 1\n",
            "userid is 1\n"
          ]
        }
      ]
    },
    {
      "cell_type": "code",
      "metadata": {
        "colab": {
          "base_uri": "https://localhost:8080/"
        },
        "id": "HXi_Aa5HiDuh",
        "outputId": "929570ef-958f-4f6c-8aa9-11ee5ee1b9d1"
      },
      "source": [
        "temp=list()\n",
        "user_query=user_query.lower()\n",
        "tokenized_query=nltk.word_tokenize(user_query)\n",
        "stopword_removed=stopwords.words('english')\n",
        "stripped_text = [word for word in tokenized_query if not word in stopwords.words()]\n",
        "print(stripped_text)    "
      ],
      "execution_count": null,
      "outputs": [
        {
          "output_type": "stream",
          "name": "stdout",
          "text": [
            "['userid', '1']\n"
          ]
        }
      ]
    },
    {
      "cell_type": "code",
      "metadata": {
        "colab": {
          "base_uri": "https://localhost:8080/"
        },
        "id": "bWTH8eSjksLC",
        "outputId": "482be2cf-762c-4f93-eaa5-efc3c9964a3d"
      },
      "source": [
        "matched=[name for name in columns_names if name in stripped_text]\n",
        "print(matched)"
      ],
      "execution_count": null,
      "outputs": [
        {
          "output_type": "stream",
          "name": "stdout",
          "text": [
            "['userid']\n"
          ]
        }
      ]
    },
    {
      "cell_type": "code",
      "metadata": {
        "colab": {
          "base_uri": "https://localhost:8080/"
        },
        "id": "y5JncZlXLFvS",
        "outputId": "66a2746c-77a4-439a-da8a-bfc4a6d87b72"
      },
      "source": [
        "nltk.download('wordnet')"
      ],
      "execution_count": null,
      "outputs": [
        {
          "output_type": "stream",
          "name": "stdout",
          "text": [
            "[nltk_data] Downloading package wordnet to /root/nltk_data...\n",
            "[nltk_data]   Package wordnet is already up-to-date!\n"
          ]
        },
        {
          "output_type": "execute_result",
          "data": {
            "text/plain": [
              "True"
            ]
          },
          "metadata": {},
          "execution_count": 77
        }
      ]
    },
    {
      "cell_type": "code",
      "metadata": {
        "colab": {
          "base_uri": "https://localhost:8080/"
        },
        "id": "QWPtCx_nK_SP",
        "outputId": "93250e17-c4b2-4db4-a49c-d5cc219b6e9f"
      },
      "source": [
        "from nltk.corpus import wordnet as wn\n",
        "\n",
        "all_nouns = []\n",
        "for synset in wn.all_synsets('n'):\n",
        "    all_nouns.extend(synset.lemma_names())\n",
        "\n",
        "noun_query= [word for word in stripped_text if word in all_nouns]\n",
        "noun_query= [word for word in noun_query if word not in matched]\n",
        "print (noun_query)"
      ],
      "execution_count": null,
      "outputs": [
        {
          "output_type": "stream",
          "name": "stdout",
          "text": [
            "['1']\n"
          ]
        }
      ]
    },
    {
      "cell_type": "code",
      "metadata": {
        "colab": {
          "base_uri": "https://localhost:8080/"
        },
        "id": "aOowVg1hMKoA",
        "outputId": "b5a3a98c-3938-4e21-cbe3-a522cee670e3"
      },
      "source": [
        "nltk.download('averaged_perceptron_tagger')"
      ],
      "execution_count": null,
      "outputs": [
        {
          "output_type": "stream",
          "name": "stdout",
          "text": [
            "[nltk_data] Downloading package averaged_perceptron_tagger to\n",
            "[nltk_data]     /root/nltk_data...\n",
            "[nltk_data]   Package averaged_perceptron_tagger is already up-to-\n",
            "[nltk_data]       date!\n"
          ]
        },
        {
          "output_type": "execute_result",
          "data": {
            "text/plain": [
              "True"
            ]
          },
          "metadata": {},
          "execution_count": 79
        }
      ]
    },
    {
      "cell_type": "code",
      "metadata": {
        "colab": {
          "base_uri": "https://localhost:8080/"
        },
        "id": "ya4O3wwkLuGQ",
        "outputId": "aa3cb906-f513-40e5-c7f0-c91d681cb977"
      },
      "source": [
        "tag=nltk.pos_tag(stripped_text)\n",
        "tag"
      ],
      "execution_count": null,
      "outputs": [
        {
          "output_type": "execute_result",
          "data": {
            "text/plain": [
              "[('userid', 'JJ'), ('1', 'CD')]"
            ]
          },
          "metadata": {},
          "execution_count": 80
        }
      ]
    },
    {
      "cell_type": "code",
      "metadata": {
        "colab": {
          "base_uri": "https://localhost:8080/"
        },
        "id": "aJPxWkVcsWgn",
        "outputId": "82d6b5fc-6483-4c8c-8871-d60510ffd310"
      },
      "source": [
        "str1 = ''.join(matched)\n",
        "str2 = ''.join(noun_query)\n",
        "lenstr2=(len(str2))\n",
        "if lenstr2 == 0:\n",
        "  str2= '* '\n",
        "else:\n",
        "  str2= str2\n",
        "SQL_query='Select ' + str2 + ' from '+ str1\n",
        "print(SQL_query)"
      ],
      "execution_count": null,
      "outputs": [
        {
          "output_type": "stream",
          "name": "stdout",
          "text": [
            "Select 1 from userid\n"
          ]
        }
      ]
    }
  ]
}